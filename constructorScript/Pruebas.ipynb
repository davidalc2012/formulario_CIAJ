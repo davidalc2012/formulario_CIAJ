{
 "cells": [
  {
   "cell_type": "code",
   "execution_count": 282,
   "metadata": {},
   "outputs": [
    {
     "name": "stdout",
     "output_type": "stream",
     "text": [
      "{'date': '2018-11-14',\n",
      " 'description': 'Prueba 1',\n",
      " 'idForm': 1,\n",
      " 'question': [{'description': '--',\n",
      "               'id': 1.1,\n",
      "               'name': 'nombre',\n",
      "               'placeholder': 'Nombre + Apellido',\n",
      "               'text': 'Nombre Completo',\n",
      "               'type': 'text'},\n",
      "              {'description': '--',\n",
      "               'id': 1.2,\n",
      "               'limitations': {'max': 1000, 'min': 500, 'required': 'True'},\n",
      "               'name': 'edad',\n",
      "               'placeholder': 'Edad',\n",
      "               'text': 'Edad',\n",
      "               'type': 'number'},\n",
      "              {'description': '--',\n",
      "               'id': 1.3,\n",
      "               'limitations': {'maxLength': 30},\n",
      "               'name': 'direccion',\n",
      "               'placeholder': 'Calle + Número',\n",
      "               'text': 'Direccion',\n",
      "               'type': 'text'},\n",
      "              {'description': '--',\n",
      "               'id': 1.4,\n",
      "               'limitations': {'max': 100, 'min': 10},\n",
      "               'name': 'Edad',\n",
      "               'text': 'Edad range',\n",
      "               'type': 'range'},\n",
      "              {'description': '--',\n",
      "               'id': 1.5,\n",
      "               'name': 'email',\n",
      "               'placeholder': 'a@b.com',\n",
      "               'text': 'Email',\n",
      "               'type': 'email'},\n",
      "              {'description': '--',\n",
      "               'doesRepeat': 'True',\n",
      "               'id': 1.6,\n",
      "               'name': 'tels',\n",
      "               'placeholder': 'LADA + Número',\n",
      "               'repeatLimitations': {'maxRepeats': 5},\n",
      "               'text': 'Teléfonos',\n",
      "               'type': 'text'},\n",
      "              {'description': '--',\n",
      "               'id': 1.7,\n",
      "               'name': 'bloqueado',\n",
      "               'text': 'Bloqueado',\n",
      "               'type': 'text',\n",
      "               'value': 'Campo Bloqueado'},\n",
      "              {'description': '--',\n",
      "               'elements': ['a', 'b', 'c', 'd'],\n",
      "               'id': 1.8,\n",
      "               'name': 'Lista',\n",
      "               'text': 'Lista',\n",
      "               'type': 'select'},\n",
      "              {'description': '--',\n",
      "               'elements': ['1', '2', '3'],\n",
      "               'id': 1.9,\n",
      "               'name': 'Checkbox',\n",
      "               'text': 'Checkbox',\n",
      "               'type': 'checkbox'},\n",
      "              {'description': '--',\n",
      "               'elements': ['A', 'B', 'C'],\n",
      "               'id': 1.1,\n",
      "               'name': 'RadioButton',\n",
      "               'text': 'RadioButton',\n",
      "               'type': 'radio'},\n",
      "              {'description': '--',\n",
      "               'id': 1.11,\n",
      "               'name': 'Fecha',\n",
      "               'text': 'Fecha',\n",
      "               'type': 'date'},\n",
      "              {'description': '--',\n",
      "               'id': 1.12,\n",
      "               'name': 'file',\n",
      "               'text': 'Archivo',\n",
      "               'type': 'file'},\n",
      "              {'description': '--',\n",
      "               'id': 1.13,\n",
      "               'name': 'month',\n",
      "               'text': 'Mes',\n",
      "               'type': 'month'},\n",
      "              {'description': '--',\n",
      "               'id': 1.14,\n",
      "               'name': 'passwd',\n",
      "               'text': 'Contraseña',\n",
      "               'type': 'password'},\n",
      "              {'description': '--',\n",
      "               'id': 1.15,\n",
      "               'name': 'textarea',\n",
      "               'placeholder': 'TextArea',\n",
      "               'text': 'Mes',\n",
      "               'type': 'textarea'},\n",
      "              {'description': '--',\n",
      "               'id': 1.17,\n",
      "               'name': 'submit',\n",
      "               'text': 'Submit',\n",
      "               'type': 'submit'}],\n",
      " 'title': 'Laboral',\n",
      " 'version': '1.0'}\n"
     ]
    }
   ],
   "source": [
    "import json\n",
    "from pprint import pprint\n",
    "\n",
    "with open('../schemeExamples/schemeEx1') as f:\n",
    "    data = json.load(f)\n",
    "\n",
    "pprint(data)"
   ]
  },
  {
   "cell_type": "code",
   "execution_count": 226,
   "metadata": {},
   "outputs": [
    {
     "data": {
      "text/plain": [
       "'Nombre Completo'"
      ]
     },
     "execution_count": 226,
     "metadata": {},
     "output_type": "execute_result"
    }
   ],
   "source": [
    "data['question'][0]['text']"
   ]
  },
  {
   "cell_type": "code",
   "execution_count": 310,
   "metadata": {},
   "outputs": [
    {
     "name": "stdout",
     "output_type": "stream",
     "text": [
      "<!DOCTYPE html>\n",
      "<head>\n",
      "<meta charset='UTF-8'>\n",
      "Título: Laboral<br>\n",
      "Fecha esquema: 2018-11-14<br>\n",
      "Fecha formulario: 2018-11-27 19:22:20.536126<br>\n",
      "Versión: 1.0<br><br>\n",
      "</head>\n",
      "<body>\n",
      "<form validate>\n",
      "<label>Nombre Completo</label><input type=\"text\" name=\"nombre\"> \n",
      "<br><br>\n",
      "<label>Edad</label><input type=\"number\" name=\"edad\" max=1000 min=500 required> \n",
      "<br><br>\n",
      "<label>Direccion</label><input type=\"text\" name=\"direccion\" maxLength=30> \n",
      "<br><br>\n",
      "<label>Edad range</label><input type=\"range\" name=\"Edad\" max=100 min=10> \n",
      "<br><br>\n",
      "<label>Email</label><input type=\"email\" name=\"email\"> \n",
      "<br><br>\n",
      "<label>Teléfonos</label><input type=\"text\" name=\"tels\"> \n",
      "<br><br>\n",
      "<label>Bloqueado</label><input type=\"text\" name=\"bloqueado\"> \n",
      "<br><br>\n",
      "<label>Lista</label><select>\n",
      "<option value=\"a\">a</option>\n",
      "<option value=\"b\">b</option>\n",
      "<option value=\"c\">c</option>\n",
      "<option value=\"d\">d</option>\n",
      "</select>\n",
      "<br><br>\n",
      "<input type=\"checkbox\" name=\"Checkbox\" value=\"1\"><label>1</label>\n",
      "<br>\n",
      "<input type=\"checkbox\" name=\"Checkbox\" value=\"2\"><label>2</label>\n",
      "<br>\n",
      "<input type=\"checkbox\" name=\"Checkbox\" value=\"3\"><label>3</label>\n",
      "<br>\n",
      "<input type=\"radio\" name=\"RadioButton\" value=\"A\"><label>A</label>\n",
      "<br>\n",
      "<input type=\"radio\" name=\"RadioButton\" value=\"B\"><label>B</label>\n",
      "<br>\n",
      "<input type=\"radio\" name=\"RadioButton\" value=\"C\"><label>C</label>\n",
      "<br>\n",
      "<label>Fecha</label><input type=\"date\" name=\"Fecha\"> \n",
      "<br><br>\n",
      "<label>Archivo</label><input type=\"file\" name=\"file\"> \n",
      "<br><br>\n",
      "<label>Mes</label><input type=\"month\" name=\"month\"> \n",
      "<br><br>\n",
      "<label>Contraseña</label><input type=\"password\" name=\"passwd\"> \n",
      "<br><br>\n",
      "<textarea name=\"textarea\"></textarea>\n",
      "<br><br>\n",
      "<label>Submit</label><input type=\"submit\" name=\"submit\"> \n",
      "<br><br>\n",
      "</form> \n",
      "</body>\n"
     ]
    }
   ],
   "source": [
    "from datetime import datetime as dt\n",
    "\n",
    "with open('../schemeExamples/schemeEx1') as f:\n",
    "    data = json.load(f)\n",
    "\n",
    "encabezado = 'Título: %s<br>\\nFecha esquema: %s<br>\\nFecha formulario: %s<br>\\nVersión: %s<br><br>\\n' % (data['title'],data['date'],dt.now(),str(data['version']))\n",
    "inicio = \"<!DOCTYPE html>\\n<head>\\n<meta charset='UTF-8'>\\n%s</head>\\n<body>\\n<form validate>\\n\" % (encabezado)\n",
    "\n",
    "for i in data['question']:\n",
    "    limCad = \"\"\n",
    "    if 'limitations' in i:\n",
    "        limitations = i['limitations']\n",
    "        for key, value in limitations.items():\n",
    "            limCad+= ' %s' % (key) if limitations[key]=='True' else ' %s=%s' % (key, value)\n",
    "        \n",
    "    if i['type'] == 'select':\n",
    "        inicio += '<label>%s</label><select>\\n' % (i['text'])\n",
    "        for element in i['elements']:\n",
    "            inicio += '<option value=\"%s\">%s</option>\\n' % (element, element)\n",
    "        inicio += '</select>\\n<br><br>\\n'\n",
    "        \n",
    "    elif i['type'] == 'textarea':\n",
    "        inicio += '<textarea name=\"%s\"></textarea>\\n<br><br>\\n' % (i['name'])\n",
    "        \n",
    "    elif (i['type'] == 'checkbox' or i['type'] == 'radio') :\n",
    "        for element in i['elements']:\n",
    "            inicio += '<input type=\"%s\" name=\"%s\" value=\"%s\"><label>%s</label>\\n<br>\\n' % (i['type'],i['name'],element,element)\n",
    "      \n",
    "    else:\n",
    "        inicio += '<label>%s</label><input type=\"%s\" name=\"%s\"%s> \\n<br><br>\\n' % (i['text'],i['type'],i['name'], limCad)\n",
    "    \n",
    "        \n",
    "inicio += \"</form> \\n</body>\"\n",
    "\n",
    "titulo = \"%s-%s.html\" % (data['title'],data['version'].replace('.', '_'))\n",
    "with open(titulo, 'w+') as html:\n",
    "    html.write(inicio)\n",
    "    \n",
    "print (inicio)"
   ]
  },
  {
   "cell_type": "code",
   "execution_count": 290,
   "metadata": {},
   "outputs": [],
   "source": [
    "hola =data['question'][1]['limitations']"
   ]
  },
  {
   "cell_type": "code",
   "execution_count": 308,
   "metadata": {},
   "outputs": [
    {
     "name": "stdout",
     "output_type": "stream",
     "text": [
      "False\n",
      "False\n",
      "True\n",
      " max=1000 min=500 required=True\n"
     ]
    }
   ],
   "source": [
    "cad = \"\"\n",
    "i=1\n",
    "if 'limitations' in data['question'][i]:\n",
    "    limitations = data['question'][i]['limitations']\n",
    "    for key, value in limitations.items():\n",
    "        print(limitations[key]=='True')\n",
    "        cad+= ' %s' % (key) if limitations[key]=='True' else ' %s=%s' % (key, value)\n",
    "print(cad)"
   ]
  },
  {
   "cell_type": "code",
   "execution_count": 293,
   "metadata": {},
   "outputs": [
    {
     "data": {
      "text/plain": [
       "{'max': 1000, 'min': 500, 'required': 'True'}"
      ]
     },
     "execution_count": 293,
     "metadata": {},
     "output_type": "execute_result"
    }
   ],
   "source": [
    "hola"
   ]
  },
  {
   "cell_type": "code",
   "execution_count": null,
   "metadata": {},
   "outputs": [],
   "source": []
  }
 ],
 "metadata": {
  "kernelspec": {
   "display_name": "Python 3",
   "language": "python",
   "name": "python3"
  },
  "language_info": {
   "codemirror_mode": {
    "name": "ipython",
    "version": 3
   },
   "file_extension": ".py",
   "mimetype": "text/x-python",
   "name": "python",
   "nbconvert_exporter": "python",
   "pygments_lexer": "ipython3",
   "version": "3.6.5"
  }
 },
 "nbformat": 4,
 "nbformat_minor": 2
}
