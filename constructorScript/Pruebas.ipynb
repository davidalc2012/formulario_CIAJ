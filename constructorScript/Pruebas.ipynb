{
 "cells": [
  {
   "cell_type": "code",
   "execution_count": 6,
   "metadata": {},
   "outputs": [
    {
     "name": "stdout",
     "output_type": "stream",
     "text": [
      "{'date': '2018-11-14',\n",
      " 'description': 'Prueba 1',\n",
      " 'idForm': 1,\n",
      " 'question': [{'description': '--',\n",
      "               'doesRepeat': 'False',\n",
      "               'id': 1.1,\n",
      "               'name': 'nombre',\n",
      "               'placeholder': 'Nombre + Apellido',\n",
      "               'text': 'Nombre Completo',\n",
      "               'type': 'text'},\n",
      "              {'description': '--',\n",
      "               'doesRepeat': 'False',\n",
      "               'id': 1.2,\n",
      "               'limitations': {'max': 1000, 'min': 500, 'required': 'True'},\n",
      "               'name': 'edad',\n",
      "               'placeholder': 'Edad',\n",
      "               'text': 'Edad',\n",
      "               'type': 'number'},\n",
      "              {'description': '--',\n",
      "               'doesRepeat': 'False',\n",
      "               'id': 1.3,\n",
      "               'limitations': {'maxLength': 30},\n",
      "               'name': 'direccion',\n",
      "               'placeholder': 'Calle + Número',\n",
      "               'text': 'Direccion',\n",
      "               'type': 'text'},\n",
      "              {'description': '--',\n",
      "               'doesRepeat': 'False',\n",
      "               'id': 1.4,\n",
      "               'limitations': {'max': 100, 'min': 10},\n",
      "               'name': 'Edad',\n",
      "               'text': 'Edad range',\n",
      "               'type': 'range'},\n",
      "              {'description': '--',\n",
      "               'doesRepeat': 'False',\n",
      "               'id': 1.5,\n",
      "               'name': 'email',\n",
      "               'placeholder': 'a@b.com',\n",
      "               'text': 'Email',\n",
      "               'type': 'email'},\n",
      "              {'description': '--',\n",
      "               'doesRepeat': 'True',\n",
      "               'id': 1.6,\n",
      "               'name': 'tels',\n",
      "               'placeholder': 'LADA + Número',\n",
      "               'repeatLimitations': {'maxRepeats': 5},\n",
      "               'text': 'Teléfonos',\n",
      "               'type': 'text'},\n",
      "              {'description': '--',\n",
      "               'doesRepeat': 'False',\n",
      "               'id': 1.7,\n",
      "               'name': 'bloqueado',\n",
      "               'text': 'Bloqueado',\n",
      "               'type': 'text',\n",
      "               'value': 'Campo Bloqueado'},\n",
      "              {'description': '--',\n",
      "               'doesRepeat': 'False',\n",
      "               'elements': ['a', 'b', 'c', 'd'],\n",
      "               'id': 1.8,\n",
      "               'name': 'Lista',\n",
      "               'text': 'Lista',\n",
      "               'type': 'select'},\n",
      "              {'description': '--',\n",
      "               'doesRepeat': 'False',\n",
      "               'elements': ['1', '2', '3'],\n",
      "               'id': 1.9,\n",
      "               'name': 'Checkbox',\n",
      "               'text': 'Checkbox',\n",
      "               'type': 'checkbox'}],\n",
      " 'title': 'Laboral',\n",
      " 'version': '1.0'}\n"
     ]
    }
   ],
   "source": [
    "import json\n",
    "from pprint import pprint\n",
    "\n",
    "with open('../schemeExamples/schemeEx1') as f:\n",
    "    data = json.load(f)\n",
    "\n",
    "pprint(data)"
   ]
  },
  {
   "cell_type": "code",
   "execution_count": 4,
   "metadata": {},
   "outputs": [
    {
     "data": {
      "text/plain": [
       "'2018-11-14'"
      ]
     },
     "execution_count": 4,
     "metadata": {},
     "output_type": "execute_result"
    }
   ],
   "source": [
    "data['date']"
   ]
  },
  {
   "cell_type": "code",
   "execution_count": 8,
   "metadata": {},
   "outputs": [
    {
     "data": {
      "text/plain": [
       "{'id': 1.1,\n",
       " 'text': 'Nombre Completo',\n",
       " 'description': '--',\n",
       " 'name': 'nombre',\n",
       " 'placeholder': 'Nombre + Apellido',\n",
       " 'type': 'text',\n",
       " 'doesRepeat': 'False'}"
      ]
     },
     "execution_count": 8,
     "metadata": {},
     "output_type": "execute_result"
    }
   ],
   "source": [
    "data['question'][0]"
   ]
  },
  {
   "cell_type": "code",
   "execution_count": 9,
   "metadata": {},
   "outputs": [
    {
     "data": {
      "text/plain": [
       "'Nombre Completo'"
      ]
     },
     "execution_count": 9,
     "metadata": {},
     "output_type": "execute_result"
    }
   ],
   "source": [
    "data['question'][0]['text']"
   ]
  },
  {
   "cell_type": "code",
   "execution_count": null,
   "metadata": {},
   "outputs": [],
   "source": []
  }
 ],
 "metadata": {
  "kernelspec": {
   "display_name": "Python 3",
   "language": "python",
   "name": "python3"
  },
  "language_info": {
   "codemirror_mode": {
    "name": "ipython",
    "version": 3
   },
   "file_extension": ".py",
   "mimetype": "text/x-python",
   "name": "python",
   "nbconvert_exporter": "python",
   "pygments_lexer": "ipython3",
   "version": "3.6.5"
  }
 },
 "nbformat": 4,
 "nbformat_minor": 2
}
